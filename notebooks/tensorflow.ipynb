{
 "cells": [
  {
   "cell_type": "markdown",
   "id": "92f6db1e-443c-45fc-bf2c-67f891cc3d25",
   "metadata": {
    "pycharm": {
     "name": "#%% md\n"
    }
   },
   "source": [
    "# Description: example\n",
    "## framework: pytorch"
   ]
  },
  {
   "cell_type": "code",
   "execution_count": 41,
   "id": "d9cc05d0-2314-4bad-94ac-35e96c7f06a9",
   "metadata": {
    "pycharm": {
     "name": "#%%\n"
    }
   },
   "outputs": [],
   "source": [
    "import pandas as pd\n",
    "import matplotlib.pyplot as plt\n",
    "import numpy as np\n",
    "from sklearn.model_selection import train_test_split"
   ]
  },
  {
   "cell_type": "markdown",
   "id": "e7646177-ca15-4cde-b3f9-028f3a062928",
   "metadata": {
    "pycharm": {
     "name": "#%% md\n"
    }
   },
   "source": [
    "# Selection"
   ]
  },
  {
   "cell_type": "code",
   "execution_count": 42,
   "id": "6eb1cf44-5785-4c2e-991c-657fb5a0fb7d",
   "metadata": {
    "pycharm": {
     "name": "#%%\n"
    }
   },
   "outputs": [],
   "source": [
    "# settings\n",
    "source = './mnist.csv'\n",
    "split_train, split_test, split_validation = 60, 20, 20\n",
    "label_colname = 'label'"
   ]
  },
  {
   "cell_type": "code",
   "execution_count": 43,
   "id": "fdb40ca9-85ab-45c1-9a83-2c6d67d22234",
   "metadata": {
    "pycharm": {
     "name": "#%%\n"
    }
   },
   "outputs": [],
   "source": [
    "data = pd.read_csv(source, encoding='utf_8', parse_dates=True)"
   ]
  },
  {
   "cell_type": "code",
   "execution_count": 44,
   "id": "ce97f40a-ba1c-450c-be23-a09c983b2140",
   "metadata": {
    "pycharm": {
     "name": "#%%\n"
    }
   },
   "outputs": [
    {
     "data": {
      "text/html": [
       "<div>\n",
       "<style scoped>\n",
       "    .dataframe tbody tr th:only-of-type {\n",
       "        vertical-align: middle;\n",
       "    }\n",
       "\n",
       "    .dataframe tbody tr th {\n",
       "        vertical-align: top;\n",
       "    }\n",
       "\n",
       "    .dataframe thead th {\n",
       "        text-align: right;\n",
       "    }\n",
       "</style>\n",
       "<table border=\"1\" class=\"dataframe\">\n",
       "  <thead>\n",
       "    <tr style=\"text-align: right;\">\n",
       "      <th></th>\n",
       "      <th>label</th>\n",
       "      <th>1x1</th>\n",
       "      <th>1x2</th>\n",
       "      <th>1x3</th>\n",
       "      <th>1x4</th>\n",
       "      <th>1x5</th>\n",
       "      <th>1x6</th>\n",
       "      <th>1x7</th>\n",
       "      <th>1x8</th>\n",
       "      <th>1x9</th>\n",
       "      <th>1x10</th>\n",
       "      <th>1x11</th>\n",
       "      <th>1x12</th>\n",
       "      <th>1x13</th>\n",
       "      <th>1x14</th>\n",
       "      <th>1x15</th>\n",
       "      <th>1x16</th>\n",
       "      <th>1x17</th>\n",
       "      <th>1x18</th>\n",
       "      <th>1x19</th>\n",
       "      <th>1x20</th>\n",
       "      <th>1x21</th>\n",
       "      <th>1x22</th>\n",
       "      <th>1x23</th>\n",
       "      <th>1x24</th>\n",
       "      <th>1x25</th>\n",
       "      <th>1x26</th>\n",
       "      <th>1x27</th>\n",
       "      <th>1x28</th>\n",
       "      <th>2x1</th>\n",
       "      <th>2x2</th>\n",
       "      <th>2x3</th>\n",
       "      <th>2x4</th>\n",
       "      <th>2x5</th>\n",
       "      <th>2x6</th>\n",
       "      <th>2x7</th>\n",
       "      <th>2x8</th>\n",
       "      <th>2x9</th>\n",
       "      <th>2x10</th>\n",
       "      <th>2x11</th>\n",
       "      <th>...</th>\n",
       "      <th>27x17</th>\n",
       "      <th>27x18</th>\n",
       "      <th>27x19</th>\n",
       "      <th>27x20</th>\n",
       "      <th>27x21</th>\n",
       "      <th>27x22</th>\n",
       "      <th>27x23</th>\n",
       "      <th>27x24</th>\n",
       "      <th>27x25</th>\n",
       "      <th>27x26</th>\n",
       "      <th>27x27</th>\n",
       "      <th>27x28</th>\n",
       "      <th>28x1</th>\n",
       "      <th>28x2</th>\n",
       "      <th>28x3</th>\n",
       "      <th>28x4</th>\n",
       "      <th>28x5</th>\n",
       "      <th>28x6</th>\n",
       "      <th>28x7</th>\n",
       "      <th>28x8</th>\n",
       "      <th>28x9</th>\n",
       "      <th>28x10</th>\n",
       "      <th>28x11</th>\n",
       "      <th>28x12</th>\n",
       "      <th>28x13</th>\n",
       "      <th>28x14</th>\n",
       "      <th>28x15</th>\n",
       "      <th>28x16</th>\n",
       "      <th>28x17</th>\n",
       "      <th>28x18</th>\n",
       "      <th>28x19</th>\n",
       "      <th>28x20</th>\n",
       "      <th>28x21</th>\n",
       "      <th>28x22</th>\n",
       "      <th>28x23</th>\n",
       "      <th>28x24</th>\n",
       "      <th>28x25</th>\n",
       "      <th>28x26</th>\n",
       "      <th>28x27</th>\n",
       "      <th>28x28</th>\n",
       "    </tr>\n",
       "  </thead>\n",
       "  <tbody>\n",
       "    <tr>\n",
       "      <th>0</th>\n",
       "      <td>5</td>\n",
       "      <td>0</td>\n",
       "      <td>0</td>\n",
       "      <td>0</td>\n",
       "      <td>0</td>\n",
       "      <td>0</td>\n",
       "      <td>0</td>\n",
       "      <td>0</td>\n",
       "      <td>0</td>\n",
       "      <td>0</td>\n",
       "      <td>0</td>\n",
       "      <td>0</td>\n",
       "      <td>0</td>\n",
       "      <td>0</td>\n",
       "      <td>0</td>\n",
       "      <td>0</td>\n",
       "      <td>0</td>\n",
       "      <td>0</td>\n",
       "      <td>0</td>\n",
       "      <td>0</td>\n",
       "      <td>0</td>\n",
       "      <td>0</td>\n",
       "      <td>0</td>\n",
       "      <td>0</td>\n",
       "      <td>0</td>\n",
       "      <td>0</td>\n",
       "      <td>0</td>\n",
       "      <td>0</td>\n",
       "      <td>0</td>\n",
       "      <td>0</td>\n",
       "      <td>0</td>\n",
       "      <td>0</td>\n",
       "      <td>0</td>\n",
       "      <td>0</td>\n",
       "      <td>0</td>\n",
       "      <td>0</td>\n",
       "      <td>0</td>\n",
       "      <td>0</td>\n",
       "      <td>0</td>\n",
       "      <td>0</td>\n",
       "      <td>...</td>\n",
       "      <td>0</td>\n",
       "      <td>0</td>\n",
       "      <td>0</td>\n",
       "      <td>0</td>\n",
       "      <td>0</td>\n",
       "      <td>0</td>\n",
       "      <td>0</td>\n",
       "      <td>0</td>\n",
       "      <td>0</td>\n",
       "      <td>0</td>\n",
       "      <td>0</td>\n",
       "      <td>0</td>\n",
       "      <td>0</td>\n",
       "      <td>0</td>\n",
       "      <td>0</td>\n",
       "      <td>0</td>\n",
       "      <td>0</td>\n",
       "      <td>0</td>\n",
       "      <td>0</td>\n",
       "      <td>0</td>\n",
       "      <td>0</td>\n",
       "      <td>0</td>\n",
       "      <td>0</td>\n",
       "      <td>0</td>\n",
       "      <td>0</td>\n",
       "      <td>0</td>\n",
       "      <td>0</td>\n",
       "      <td>0</td>\n",
       "      <td>0</td>\n",
       "      <td>0</td>\n",
       "      <td>0</td>\n",
       "      <td>0</td>\n",
       "      <td>0</td>\n",
       "      <td>0</td>\n",
       "      <td>0</td>\n",
       "      <td>0</td>\n",
       "      <td>0</td>\n",
       "      <td>0</td>\n",
       "      <td>0</td>\n",
       "      <td>0</td>\n",
       "    </tr>\n",
       "    <tr>\n",
       "      <th>1</th>\n",
       "      <td>0</td>\n",
       "      <td>0</td>\n",
       "      <td>0</td>\n",
       "      <td>0</td>\n",
       "      <td>0</td>\n",
       "      <td>0</td>\n",
       "      <td>0</td>\n",
       "      <td>0</td>\n",
       "      <td>0</td>\n",
       "      <td>0</td>\n",
       "      <td>0</td>\n",
       "      <td>0</td>\n",
       "      <td>0</td>\n",
       "      <td>0</td>\n",
       "      <td>0</td>\n",
       "      <td>0</td>\n",
       "      <td>0</td>\n",
       "      <td>0</td>\n",
       "      <td>0</td>\n",
       "      <td>0</td>\n",
       "      <td>0</td>\n",
       "      <td>0</td>\n",
       "      <td>0</td>\n",
       "      <td>0</td>\n",
       "      <td>0</td>\n",
       "      <td>0</td>\n",
       "      <td>0</td>\n",
       "      <td>0</td>\n",
       "      <td>0</td>\n",
       "      <td>0</td>\n",
       "      <td>0</td>\n",
       "      <td>0</td>\n",
       "      <td>0</td>\n",
       "      <td>0</td>\n",
       "      <td>0</td>\n",
       "      <td>0</td>\n",
       "      <td>0</td>\n",
       "      <td>0</td>\n",
       "      <td>0</td>\n",
       "      <td>0</td>\n",
       "      <td>...</td>\n",
       "      <td>0</td>\n",
       "      <td>0</td>\n",
       "      <td>0</td>\n",
       "      <td>0</td>\n",
       "      <td>0</td>\n",
       "      <td>0</td>\n",
       "      <td>0</td>\n",
       "      <td>0</td>\n",
       "      <td>0</td>\n",
       "      <td>0</td>\n",
       "      <td>0</td>\n",
       "      <td>0</td>\n",
       "      <td>0</td>\n",
       "      <td>0</td>\n",
       "      <td>0</td>\n",
       "      <td>0</td>\n",
       "      <td>0</td>\n",
       "      <td>0</td>\n",
       "      <td>0</td>\n",
       "      <td>0</td>\n",
       "      <td>0</td>\n",
       "      <td>0</td>\n",
       "      <td>0</td>\n",
       "      <td>0</td>\n",
       "      <td>0</td>\n",
       "      <td>0</td>\n",
       "      <td>0</td>\n",
       "      <td>0</td>\n",
       "      <td>0</td>\n",
       "      <td>0</td>\n",
       "      <td>0</td>\n",
       "      <td>0</td>\n",
       "      <td>0</td>\n",
       "      <td>0</td>\n",
       "      <td>0</td>\n",
       "      <td>0</td>\n",
       "      <td>0</td>\n",
       "      <td>0</td>\n",
       "      <td>0</td>\n",
       "      <td>0</td>\n",
       "    </tr>\n",
       "    <tr>\n",
       "      <th>2</th>\n",
       "      <td>4</td>\n",
       "      <td>0</td>\n",
       "      <td>0</td>\n",
       "      <td>0</td>\n",
       "      <td>0</td>\n",
       "      <td>0</td>\n",
       "      <td>0</td>\n",
       "      <td>0</td>\n",
       "      <td>0</td>\n",
       "      <td>0</td>\n",
       "      <td>0</td>\n",
       "      <td>0</td>\n",
       "      <td>0</td>\n",
       "      <td>0</td>\n",
       "      <td>0</td>\n",
       "      <td>0</td>\n",
       "      <td>0</td>\n",
       "      <td>0</td>\n",
       "      <td>0</td>\n",
       "      <td>0</td>\n",
       "      <td>0</td>\n",
       "      <td>0</td>\n",
       "      <td>0</td>\n",
       "      <td>0</td>\n",
       "      <td>0</td>\n",
       "      <td>0</td>\n",
       "      <td>0</td>\n",
       "      <td>0</td>\n",
       "      <td>0</td>\n",
       "      <td>0</td>\n",
       "      <td>0</td>\n",
       "      <td>0</td>\n",
       "      <td>0</td>\n",
       "      <td>0</td>\n",
       "      <td>0</td>\n",
       "      <td>0</td>\n",
       "      <td>0</td>\n",
       "      <td>0</td>\n",
       "      <td>0</td>\n",
       "      <td>0</td>\n",
       "      <td>...</td>\n",
       "      <td>0</td>\n",
       "      <td>0</td>\n",
       "      <td>0</td>\n",
       "      <td>0</td>\n",
       "      <td>0</td>\n",
       "      <td>0</td>\n",
       "      <td>0</td>\n",
       "      <td>0</td>\n",
       "      <td>0</td>\n",
       "      <td>0</td>\n",
       "      <td>0</td>\n",
       "      <td>0</td>\n",
       "      <td>0</td>\n",
       "      <td>0</td>\n",
       "      <td>0</td>\n",
       "      <td>0</td>\n",
       "      <td>0</td>\n",
       "      <td>0</td>\n",
       "      <td>0</td>\n",
       "      <td>0</td>\n",
       "      <td>0</td>\n",
       "      <td>0</td>\n",
       "      <td>0</td>\n",
       "      <td>0</td>\n",
       "      <td>0</td>\n",
       "      <td>0</td>\n",
       "      <td>0</td>\n",
       "      <td>0</td>\n",
       "      <td>0</td>\n",
       "      <td>0</td>\n",
       "      <td>0</td>\n",
       "      <td>0</td>\n",
       "      <td>0</td>\n",
       "      <td>0</td>\n",
       "      <td>0</td>\n",
       "      <td>0</td>\n",
       "      <td>0</td>\n",
       "      <td>0</td>\n",
       "      <td>0</td>\n",
       "      <td>0</td>\n",
       "    </tr>\n",
       "    <tr>\n",
       "      <th>3</th>\n",
       "      <td>1</td>\n",
       "      <td>0</td>\n",
       "      <td>0</td>\n",
       "      <td>0</td>\n",
       "      <td>0</td>\n",
       "      <td>0</td>\n",
       "      <td>0</td>\n",
       "      <td>0</td>\n",
       "      <td>0</td>\n",
       "      <td>0</td>\n",
       "      <td>0</td>\n",
       "      <td>0</td>\n",
       "      <td>0</td>\n",
       "      <td>0</td>\n",
       "      <td>0</td>\n",
       "      <td>0</td>\n",
       "      <td>0</td>\n",
       "      <td>0</td>\n",
       "      <td>0</td>\n",
       "      <td>0</td>\n",
       "      <td>0</td>\n",
       "      <td>0</td>\n",
       "      <td>0</td>\n",
       "      <td>0</td>\n",
       "      <td>0</td>\n",
       "      <td>0</td>\n",
       "      <td>0</td>\n",
       "      <td>0</td>\n",
       "      <td>0</td>\n",
       "      <td>0</td>\n",
       "      <td>0</td>\n",
       "      <td>0</td>\n",
       "      <td>0</td>\n",
       "      <td>0</td>\n",
       "      <td>0</td>\n",
       "      <td>0</td>\n",
       "      <td>0</td>\n",
       "      <td>0</td>\n",
       "      <td>0</td>\n",
       "      <td>0</td>\n",
       "      <td>...</td>\n",
       "      <td>0</td>\n",
       "      <td>0</td>\n",
       "      <td>0</td>\n",
       "      <td>0</td>\n",
       "      <td>0</td>\n",
       "      <td>0</td>\n",
       "      <td>0</td>\n",
       "      <td>0</td>\n",
       "      <td>0</td>\n",
       "      <td>0</td>\n",
       "      <td>0</td>\n",
       "      <td>0</td>\n",
       "      <td>0</td>\n",
       "      <td>0</td>\n",
       "      <td>0</td>\n",
       "      <td>0</td>\n",
       "      <td>0</td>\n",
       "      <td>0</td>\n",
       "      <td>0</td>\n",
       "      <td>0</td>\n",
       "      <td>0</td>\n",
       "      <td>0</td>\n",
       "      <td>0</td>\n",
       "      <td>0</td>\n",
       "      <td>0</td>\n",
       "      <td>0</td>\n",
       "      <td>0</td>\n",
       "      <td>0</td>\n",
       "      <td>0</td>\n",
       "      <td>0</td>\n",
       "      <td>0</td>\n",
       "      <td>0</td>\n",
       "      <td>0</td>\n",
       "      <td>0</td>\n",
       "      <td>0</td>\n",
       "      <td>0</td>\n",
       "      <td>0</td>\n",
       "      <td>0</td>\n",
       "      <td>0</td>\n",
       "      <td>0</td>\n",
       "    </tr>\n",
       "    <tr>\n",
       "      <th>4</th>\n",
       "      <td>9</td>\n",
       "      <td>0</td>\n",
       "      <td>0</td>\n",
       "      <td>0</td>\n",
       "      <td>0</td>\n",
       "      <td>0</td>\n",
       "      <td>0</td>\n",
       "      <td>0</td>\n",
       "      <td>0</td>\n",
       "      <td>0</td>\n",
       "      <td>0</td>\n",
       "      <td>0</td>\n",
       "      <td>0</td>\n",
       "      <td>0</td>\n",
       "      <td>0</td>\n",
       "      <td>0</td>\n",
       "      <td>0</td>\n",
       "      <td>0</td>\n",
       "      <td>0</td>\n",
       "      <td>0</td>\n",
       "      <td>0</td>\n",
       "      <td>0</td>\n",
       "      <td>0</td>\n",
       "      <td>0</td>\n",
       "      <td>0</td>\n",
       "      <td>0</td>\n",
       "      <td>0</td>\n",
       "      <td>0</td>\n",
       "      <td>0</td>\n",
       "      <td>0</td>\n",
       "      <td>0</td>\n",
       "      <td>0</td>\n",
       "      <td>0</td>\n",
       "      <td>0</td>\n",
       "      <td>0</td>\n",
       "      <td>0</td>\n",
       "      <td>0</td>\n",
       "      <td>0</td>\n",
       "      <td>0</td>\n",
       "      <td>0</td>\n",
       "      <td>...</td>\n",
       "      <td>147</td>\n",
       "      <td>252</td>\n",
       "      <td>42</td>\n",
       "      <td>0</td>\n",
       "      <td>0</td>\n",
       "      <td>0</td>\n",
       "      <td>0</td>\n",
       "      <td>0</td>\n",
       "      <td>0</td>\n",
       "      <td>0</td>\n",
       "      <td>0</td>\n",
       "      <td>0</td>\n",
       "      <td>0</td>\n",
       "      <td>0</td>\n",
       "      <td>0</td>\n",
       "      <td>0</td>\n",
       "      <td>0</td>\n",
       "      <td>0</td>\n",
       "      <td>0</td>\n",
       "      <td>0</td>\n",
       "      <td>0</td>\n",
       "      <td>0</td>\n",
       "      <td>0</td>\n",
       "      <td>0</td>\n",
       "      <td>0</td>\n",
       "      <td>0</td>\n",
       "      <td>0</td>\n",
       "      <td>0</td>\n",
       "      <td>0</td>\n",
       "      <td>0</td>\n",
       "      <td>0</td>\n",
       "      <td>0</td>\n",
       "      <td>0</td>\n",
       "      <td>0</td>\n",
       "      <td>0</td>\n",
       "      <td>0</td>\n",
       "      <td>0</td>\n",
       "      <td>0</td>\n",
       "      <td>0</td>\n",
       "      <td>0</td>\n",
       "    </tr>\n",
       "  </tbody>\n",
       "</table>\n",
       "<p>5 rows × 785 columns</p>\n",
       "</div>"
      ],
      "text/plain": [
       "   label  1x1  1x2  1x3  1x4  1x5  ...  28x23  28x24  28x25  28x26  28x27  28x28\n",
       "0      5    0    0    0    0    0  ...      0      0      0      0      0      0\n",
       "1      0    0    0    0    0    0  ...      0      0      0      0      0      0\n",
       "2      4    0    0    0    0    0  ...      0      0      0      0      0      0\n",
       "3      1    0    0    0    0    0  ...      0      0      0      0      0      0\n",
       "4      9    0    0    0    0    0  ...      0      0      0      0      0      0\n",
       "\n",
       "[5 rows x 785 columns]"
      ]
     },
     "execution_count": 44,
     "metadata": {},
     "output_type": "execute_result"
    }
   ],
   "source": [
    "data.head()"
   ]
  },
  {
   "cell_type": "code",
   "execution_count": 45,
   "id": "8ef6ea28-8559-42d7-bfda-7fd0f2dbcc76",
   "metadata": {
    "pycharm": {
     "name": "#%%\n"
    }
   },
   "outputs": [],
   "source": [
    "X,y = data.drop([label_colname], axis = 1), data[label_colname]"
   ]
  },
  {
   "cell_type": "code",
   "execution_count": 46,
   "id": "82bde525-fd94-46d1-ae33-8e14d088e491",
   "metadata": {
    "pycharm": {
     "name": "#%%\n"
    }
   },
   "outputs": [],
   "source": [
    "X_train, X_test, y_train, y_test = train_test_split(X, y, train_size = split_train / 100, test_size = split_test / 100, random_state=42)\n",
    "X_train, X_valid, y_train, y_valid = train_test_split(X_train, y_train, train_size=(100 - split_validation) / 100)"
   ]
  },
  {
   "cell_type": "markdown",
   "id": "ba1e0919-e76c-4227-9705-74f77c200ac5",
   "metadata": {
    "pycharm": {
     "name": "#%% md\n"
    }
   },
   "source": [
    "# Preprocessing"
   ]
  },
  {
   "cell_type": "code",
   "execution_count": 47,
   "id": "d3c76484-d779-4535-bc75-de31394647a2",
   "metadata": {
    "pycharm": {
     "name": "#%%\n"
    }
   },
   "outputs": [],
   "source": [
    "# TODO"
   ]
  },
  {
   "cell_type": "markdown",
   "id": "3540eb46-a9ee-4e78-a0d3-01d57b9bf659",
   "metadata": {
    "pycharm": {
     "name": "#%% md\n"
    }
   },
   "source": [
    "# Transformation"
   ]
  },
  {
   "cell_type": "code",
   "execution_count": 48,
   "id": "42f4959d-a704-4028-b33f-e6db80c8213c",
   "metadata": {
    "pycharm": {
     "name": "#%%\n"
    }
   },
   "outputs": [],
   "source": [
    "X_train = X_train / 255.\n",
    "X_test = X_test / 255."
   ]
  },
  {
   "cell_type": "markdown",
   "id": "77e40068-b3e6-431d-beb1-626bc7d4435b",
   "metadata": {
    "pycharm": {
     "name": "#%% md\n"
    }
   },
   "source": [
    "# Data mining"
   ]
  },
  {
   "cell_type": "code",
   "execution_count": 49,
   "id": "bae69703-d80b-4dba-845f-fdbc673694a8",
   "metadata": {
    "pycharm": {
     "name": "#%%\n"
    }
   },
   "outputs": [],
   "source": [
    "import keras.models as km\n",
    "import keras.layers as kl"
   ]
  },
  {
   "cell_type": "code",
   "execution_count": 50,
   "id": "10a98539-ad35-4b82-98ff-c5779b7769e7",
   "metadata": {
    "pycharm": {
     "name": "#%%\n"
    }
   },
   "outputs": [],
   "source": [
    "def Network(nbIn,nbOut):\n",
    "    model = km.Sequential()\n",
    "    model.add(kl.Dense(int(nbIn/2), activation='tanh', input_shape=(nbIn,)))\n",
    "    model.add(kl.Dense(nbOut, activation='softmax'))\n",
    "    return model"
   ]
  },
  {
   "cell_type": "code",
   "execution_count": 51,
   "id": "28637138-e054-4f29-86f8-b6d66c560fb2",
   "metadata": {
    "pycharm": {
     "name": "#%%\n"
    }
   },
   "outputs": [
    {
     "name": "stdout",
     "output_type": "stream",
     "text": [
      "Model: \"sequential_2\"\n",
      "_________________________________________________________________\n",
      " Layer (type)                Output Shape              Param #   \n",
      "=================================================================\n",
      " dense_4 (Dense)             (None, 392)               307720    \n",
      "                                                                 \n",
      " dense_5 (Dense)             (None, 1)                 393       \n",
      "                                                                 \n",
      "=================================================================\n",
      "Total params: 308,113\n",
      "Trainable params: 308,113\n",
      "Non-trainable params: 0\n",
      "_________________________________________________________________\n"
     ]
    }
   ],
   "source": [
    "nbIn = X_train.shape[1]\n",
    "nbOut = 1\n",
    "\n",
    "neuralNetwork = Network(nbIn,nbOut)\n",
    "neuralNetwork.summary()"
   ]
  },
  {
   "cell_type": "markdown",
   "id": "d4dedc14-f070-4841-a45e-1ff073d593e4",
   "metadata": {
    "pycharm": {
     "name": "#%% md\n"
    }
   },
   "source": [
    "#### Loss/optimizers catalog"
   ]
  },
  {
   "cell_type": "code",
   "execution_count": 52,
   "id": "b5152ad9-07aa-4447-bb5f-c73c42c0ce25",
   "metadata": {
    "pycharm": {
     "name": "#%%\n"
    }
   },
   "outputs": [],
   "source": [
    "supported_loss_functions = {\n",
    "    'mse': 'mse',\n",
    "    'cross_entropy': 'categorical_crossentropy',\n",
    "}\n",
    "supported_optimizers = {\n",
    "    'adam': 'Adam',\n",
    "    'sgd': 'SGD',\n",
    "}"
   ]
  },
  {
   "cell_type": "code",
   "execution_count": 53,
   "id": "7cf67fcf-4a14-4103-a9ec-fb596c9c4baf",
   "metadata": {
    "pycharm": {
     "name": "#%%\n"
    }
   },
   "outputs": [],
   "source": [
    "selected_loss_function = 'mse'\n",
    "selected_optimizer = 'sgd'\n",
    "learning_rate = 0.003\n",
    "nbEpochs = 100\n",
    "batch_size = 128"
   ]
  },
  {
   "cell_type": "code",
   "execution_count": 54,
   "id": "a068bb2f-3f42-4319-8bb0-e5e29d3ef2b0",
   "metadata": {
    "pycharm": {
     "name": "#%%\n"
    }
   },
   "outputs": [],
   "source": [
    "neuralNetwork.compile(\n",
    "    loss=supported_loss_functions[selected_loss_function],\n",
    "    optimizer=supported_optimizers[selected_optimizer],\n",
    "    metrics=['accuracy']\n",
    ")"
   ]
  },
  {
   "cell_type": "code",
   "execution_count": 55,
   "id": "cc178f80-7e1e-4ae8-b1bf-75902bc8fccf",
   "metadata": {
    "scrolled": true,
    "tags": [],
    "pycharm": {
     "name": "#%%\n"
    }
   },
   "outputs": [
    {
     "name": "stdout",
     "output_type": "stream",
     "text": [
      "Epoch 1/100\n",
      "263/263 [==============================] - 1s 4ms/step - loss: 20.1934 - accuracy: 0.1112\n",
      "Epoch 2/100\n",
      "263/263 [==============================] - 1s 4ms/step - loss: 20.1934 - accuracy: 0.1112\n",
      "Epoch 3/100\n",
      "263/263 [==============================] - 1s 4ms/step - loss: 20.1934 - accuracy: 0.1112\n",
      "Epoch 4/100\n",
      "263/263 [==============================] - 1s 4ms/step - loss: 20.1934 - accuracy: 0.1112\n",
      "Epoch 5/100\n",
      "263/263 [==============================] - 1s 4ms/step - loss: 20.1934 - accuracy: 0.1112\n",
      "Epoch 6/100\n",
      "263/263 [==============================] - 1s 4ms/step - loss: 20.1934 - accuracy: 0.1112\n",
      "Epoch 7/100\n",
      "263/263 [==============================] - 1s 4ms/step - loss: 20.1934 - accuracy: 0.1112\n",
      "Epoch 8/100\n",
      "263/263 [==============================] - 1s 4ms/step - loss: 20.1934 - accuracy: 0.1112\n",
      "Epoch 9/100\n",
      "263/263 [==============================] - 1s 4ms/step - loss: 20.1934 - accuracy: 0.1112\n",
      "Epoch 10/100\n",
      "263/263 [==============================] - 1s 4ms/step - loss: 20.1934 - accuracy: 0.1112\n",
      "Epoch 11/100\n",
      "263/263 [==============================] - 1s 4ms/step - loss: 20.1934 - accuracy: 0.1112\n",
      "Epoch 12/100\n",
      "263/263 [==============================] - 1s 4ms/step - loss: 20.1934 - accuracy: 0.1112\n",
      "Epoch 13/100\n",
      "263/263 [==============================] - 1s 3ms/step - loss: 20.1934 - accuracy: 0.1112\n",
      "Epoch 14/100\n",
      "263/263 [==============================] - 1s 4ms/step - loss: 20.1934 - accuracy: 0.1112\n",
      "Epoch 15/100\n",
      "263/263 [==============================] - 1s 4ms/step - loss: 20.1934 - accuracy: 0.1112\n",
      "Epoch 16/100\n",
      "263/263 [==============================] - 1s 4ms/step - loss: 20.1934 - accuracy: 0.1112\n",
      "Epoch 17/100\n",
      "263/263 [==============================] - 1s 4ms/step - loss: 20.1934 - accuracy: 0.1112\n",
      "Epoch 18/100\n",
      "263/263 [==============================] - 1s 4ms/step - loss: 20.1934 - accuracy: 0.1112\n",
      "Epoch 19/100\n",
      "263/263 [==============================] - 1s 4ms/step - loss: 20.1934 - accuracy: 0.1112\n",
      "Epoch 20/100\n",
      "263/263 [==============================] - 1s 4ms/step - loss: 20.1934 - accuracy: 0.1112\n",
      "Epoch 21/100\n",
      "263/263 [==============================] - 1s 4ms/step - loss: 20.1934 - accuracy: 0.1112\n",
      "Epoch 22/100\n",
      "263/263 [==============================] - 1s 4ms/step - loss: 20.1934 - accuracy: 0.1112\n",
      "Epoch 23/100\n",
      "263/263 [==============================] - 1s 4ms/step - loss: 20.1934 - accuracy: 0.1112\n",
      "Epoch 24/100\n",
      "263/263 [==============================] - 1s 4ms/step - loss: 20.1934 - accuracy: 0.1112\n",
      "Epoch 25/100\n",
      "263/263 [==============================] - 1s 4ms/step - loss: 20.1934 - accuracy: 0.1112\n",
      "Epoch 26/100\n",
      "263/263 [==============================] - 1s 4ms/step - loss: 20.1934 - accuracy: 0.1112\n",
      "Epoch 27/100\n",
      "263/263 [==============================] - 1s 4ms/step - loss: 20.1934 - accuracy: 0.1112\n",
      "Epoch 28/100\n",
      "263/263 [==============================] - 1s 5ms/step - loss: 20.1934 - accuracy: 0.1112\n",
      "Epoch 29/100\n",
      "263/263 [==============================] - 1s 5ms/step - loss: 20.1934 - accuracy: 0.1112\n",
      "Epoch 30/100\n",
      "263/263 [==============================] - 1s 4ms/step - loss: 20.1934 - accuracy: 0.1112\n",
      "Epoch 31/100\n",
      "263/263 [==============================] - 1s 4ms/step - loss: 20.1934 - accuracy: 0.1112\n",
      "Epoch 32/100\n",
      "263/263 [==============================] - 1s 4ms/step - loss: 20.1934 - accuracy: 0.1112\n",
      "Epoch 33/100\n",
      "263/263 [==============================] - 1s 4ms/step - loss: 20.1934 - accuracy: 0.1112\n",
      "Epoch 34/100\n",
      "263/263 [==============================] - 1s 4ms/step - loss: 20.1934 - accuracy: 0.1112\n",
      "Epoch 35/100\n",
      "263/263 [==============================] - 1s 4ms/step - loss: 20.1934 - accuracy: 0.1112\n",
      "Epoch 36/100\n",
      "263/263 [==============================] - 1s 4ms/step - loss: 20.1934 - accuracy: 0.1112\n",
      "Epoch 37/100\n",
      "263/263 [==============================] - 1s 4ms/step - loss: 20.1934 - accuracy: 0.1112\n",
      "Epoch 38/100\n",
      "263/263 [==============================] - 1s 4ms/step - loss: 20.1934 - accuracy: 0.1112\n",
      "Epoch 39/100\n",
      "263/263 [==============================] - 1s 4ms/step - loss: 20.1934 - accuracy: 0.1112\n",
      "Epoch 40/100\n",
      "263/263 [==============================] - 1s 4ms/step - loss: 20.1934 - accuracy: 0.1112\n",
      "Epoch 41/100\n",
      "263/263 [==============================] - 1s 4ms/step - loss: 20.1934 - accuracy: 0.1112\n",
      "Epoch 42/100\n",
      "263/263 [==============================] - 1s 4ms/step - loss: 20.1934 - accuracy: 0.1112\n",
      "Epoch 43/100\n",
      "263/263 [==============================] - 1s 4ms/step - loss: 20.1934 - accuracy: 0.1112\n",
      "Epoch 44/100\n",
      "263/263 [==============================] - 1s 4ms/step - loss: 20.1934 - accuracy: 0.1112\n",
      "Epoch 45/100\n",
      "263/263 [==============================] - 1s 4ms/step - loss: 20.1934 - accuracy: 0.1112\n",
      "Epoch 46/100\n",
      "263/263 [==============================] - 1s 4ms/step - loss: 20.1934 - accuracy: 0.1112\n",
      "Epoch 47/100\n",
      "263/263 [==============================] - 1s 4ms/step - loss: 20.1934 - accuracy: 0.1112\n",
      "Epoch 48/100\n",
      "263/263 [==============================] - 1s 4ms/step - loss: 20.1934 - accuracy: 0.1112\n",
      "Epoch 49/100\n",
      "263/263 [==============================] - 1s 4ms/step - loss: 20.1934 - accuracy: 0.1112\n",
      "Epoch 50/100\n",
      "263/263 [==============================] - 1s 4ms/step - loss: 20.1934 - accuracy: 0.1112\n",
      "Epoch 51/100\n",
      "263/263 [==============================] - 1s 4ms/step - loss: 20.1934 - accuracy: 0.1112\n",
      "Epoch 52/100\n",
      "263/263 [==============================] - 1s 3ms/step - loss: 20.1934 - accuracy: 0.1112\n",
      "Epoch 53/100\n",
      "263/263 [==============================] - 1s 4ms/step - loss: 20.1934 - accuracy: 0.1112\n",
      "Epoch 54/100\n",
      "263/263 [==============================] - 1s 4ms/step - loss: 20.1934 - accuracy: 0.1112\n",
      "Epoch 55/100\n",
      "263/263 [==============================] - 1s 4ms/step - loss: 20.1934 - accuracy: 0.1112\n",
      "Epoch 56/100\n",
      "263/263 [==============================] - 1s 4ms/step - loss: 20.1934 - accuracy: 0.1112\n",
      "Epoch 57/100\n",
      "263/263 [==============================] - 1s 4ms/step - loss: 20.1934 - accuracy: 0.1112\n",
      "Epoch 58/100\n",
      "263/263 [==============================] - 1s 4ms/step - loss: 20.1934 - accuracy: 0.1112\n",
      "Epoch 59/100\n",
      "263/263 [==============================] - 1s 4ms/step - loss: 20.1934 - accuracy: 0.1112\n",
      "Epoch 60/100\n",
      "263/263 [==============================] - 1s 4ms/step - loss: 20.1934 - accuracy: 0.1112\n",
      "Epoch 61/100\n",
      "263/263 [==============================] - 1s 4ms/step - loss: 20.1934 - accuracy: 0.1112\n",
      "Epoch 62/100\n",
      "263/263 [==============================] - 1s 4ms/step - loss: 20.1934 - accuracy: 0.1112\n",
      "Epoch 63/100\n",
      "263/263 [==============================] - 1s 5ms/step - loss: 20.1934 - accuracy: 0.1112\n",
      "Epoch 64/100\n",
      "263/263 [==============================] - 1s 4ms/step - loss: 20.1934 - accuracy: 0.1112\n",
      "Epoch 65/100\n",
      "263/263 [==============================] - 1s 4ms/step - loss: 20.1934 - accuracy: 0.1112\n",
      "Epoch 66/100\n",
      "263/263 [==============================] - 1s 4ms/step - loss: 20.1934 - accuracy: 0.1112\n",
      "Epoch 67/100\n",
      "263/263 [==============================] - 1s 5ms/step - loss: 20.1934 - accuracy: 0.1112\n",
      "Epoch 68/100\n",
      "263/263 [==============================] - 1s 5ms/step - loss: 20.1934 - accuracy: 0.1112\n",
      "Epoch 69/100\n",
      "263/263 [==============================] - 1s 5ms/step - loss: 20.1934 - accuracy: 0.1112\n",
      "Epoch 70/100\n",
      "263/263 [==============================] - 1s 5ms/step - loss: 20.1934 - accuracy: 0.1112\n",
      "Epoch 71/100\n",
      "263/263 [==============================] - 1s 5ms/step - loss: 20.1934 - accuracy: 0.1112\n",
      "Epoch 72/100\n",
      "263/263 [==============================] - 1s 5ms/step - loss: 20.1934 - accuracy: 0.1112\n",
      "Epoch 73/100\n",
      "263/263 [==============================] - 1s 5ms/step - loss: 20.1934 - accuracy: 0.1112\n",
      "Epoch 74/100\n",
      "263/263 [==============================] - 1s 5ms/step - loss: 20.1934 - accuracy: 0.1112\n",
      "Epoch 75/100\n",
      "263/263 [==============================] - 1s 5ms/step - loss: 20.1934 - accuracy: 0.1112\n",
      "Epoch 76/100\n",
      "263/263 [==============================] - 1s 5ms/step - loss: 20.1934 - accuracy: 0.1112\n",
      "Epoch 77/100\n",
      "263/263 [==============================] - 1s 5ms/step - loss: 20.1934 - accuracy: 0.1112\n",
      "Epoch 78/100\n",
      "263/263 [==============================] - 1s 6ms/step - loss: 20.1934 - accuracy: 0.1112\n",
      "Epoch 79/100\n",
      "263/263 [==============================] - 1s 5ms/step - loss: 20.1934 - accuracy: 0.1112\n",
      "Epoch 80/100\n",
      "263/263 [==============================] - 1s 5ms/step - loss: 20.1934 - accuracy: 0.1112\n",
      "Epoch 81/100\n",
      "263/263 [==============================] - 1s 5ms/step - loss: 20.1934 - accuracy: 0.1112\n",
      "Epoch 82/100\n",
      "263/263 [==============================] - 1s 4ms/step - loss: 20.1934 - accuracy: 0.1112\n",
      "Epoch 83/100\n",
      "263/263 [==============================] - 1s 5ms/step - loss: 20.1934 - accuracy: 0.1112\n",
      "Epoch 84/100\n",
      "263/263 [==============================] - 1s 4ms/step - loss: 20.1934 - accuracy: 0.1112\n",
      "Epoch 85/100\n",
      "263/263 [==============================] - 1s 4ms/step - loss: 20.1934 - accuracy: 0.1112\n",
      "Epoch 86/100\n",
      "263/263 [==============================] - 1s 4ms/step - loss: 20.1934 - accuracy: 0.1112\n",
      "Epoch 87/100\n",
      "263/263 [==============================] - 1s 4ms/step - loss: 20.1934 - accuracy: 0.1112\n",
      "Epoch 88/100\n",
      "263/263 [==============================] - 1s 4ms/step - loss: 20.1934 - accuracy: 0.1112\n",
      "Epoch 89/100\n",
      "263/263 [==============================] - 1s 4ms/step - loss: 20.1934 - accuracy: 0.1112\n",
      "Epoch 90/100\n",
      "263/263 [==============================] - 1s 4ms/step - loss: 20.1934 - accuracy: 0.1112\n",
      "Epoch 91/100\n",
      "263/263 [==============================] - 1s 4ms/step - loss: 20.1934 - accuracy: 0.1112\n",
      "Epoch 92/100\n",
      "263/263 [==============================] - 1s 4ms/step - loss: 20.1934 - accuracy: 0.1112\n",
      "Epoch 93/100\n",
      "263/263 [==============================] - 1s 4ms/step - loss: 20.1934 - accuracy: 0.1112\n",
      "Epoch 94/100\n",
      "263/263 [==============================] - 1s 4ms/step - loss: 20.1934 - accuracy: 0.1112\n",
      "Epoch 95/100\n",
      "263/263 [==============================] - 1s 4ms/step - loss: 20.1934 - accuracy: 0.1112\n",
      "Epoch 96/100\n",
      "263/263 [==============================] - 1s 4ms/step - loss: 20.1934 - accuracy: 0.1112\n",
      "Epoch 97/100\n",
      "263/263 [==============================] - 1s 4ms/step - loss: 20.1934 - accuracy: 0.1112\n",
      "Epoch 98/100\n",
      "263/263 [==============================] - 1s 4ms/step - loss: 20.1934 - accuracy: 0.1112\n",
      "Epoch 99/100\n",
      "263/263 [==============================] - 1s 4ms/step - loss: 20.1934 - accuracy: 0.1112\n",
      "Epoch 100/100\n",
      "263/263 [==============================] - 1s 4ms/step - loss: 20.1934 - accuracy: 0.1112\n"
     ]
    }
   ],
   "source": [
    "history = neuralNetwork.fit(X_train, y_train,\n",
    "                            batch_size=batch_size,\n",
    "                            epochs=nbEpochs,\n",
    "                            verbose=1)"
   ]
  },
  {
   "cell_type": "markdown",
   "id": "e5135d69-db4b-46ad-8bb9-65d8b4006f1d",
   "metadata": {
    "pycharm": {
     "name": "#%% md\n"
    }
   },
   "source": [
    "# Validation"
   ]
  },
  {
   "cell_type": "code",
   "execution_count": 56,
   "id": "6020fe16-02fb-4c74-b461-345e4783db15",
   "metadata": {
    "pycharm": {
     "name": "#%%\n"
    }
   },
   "outputs": [
    {
     "data": {
      "image/png": "[encoded data removed]",
      "text/plain": [
       "<Figure size 640x480 with 1 Axes>"
      ]
     },
     "metadata": {},
     "output_type": "display_data"
    }
   ],
   "source": [
    "fig, ax = plt.subplots()\n",
    "x = np.arange(len(history.history['loss']))\n",
    "ax.plot(x, history.history['loss'])\n",
    "ax.set(xlabel='number of epochs', ylabel='loss', title='Evolution')\n",
    "plt.show()"
   ]
  },
  {
   "cell_type": "code",
   "execution_count": 57,
   "id": "e80e75af-b078-4dd2-b449-917e95cad461",
   "metadata": {
    "pycharm": {
     "name": "#%%\n"
    }
   },
   "outputs": [
    {
     "name": "stdout",
     "output_type": "stream",
     "text": [
      "2/2 [==============================] - 0s 4ms/step\n"
     ]
    },
    {
     "data": {
      "image/png": "[encoded data removed]",
      "text/plain": [
       "<Figure size 640x480 with 1 Axes>"
      ]
     },
     "metadata": {},
     "output_type": "display_data"
    }
   ],
   "source": [
    "ax = plt.gca()\n",
    "output = neuralNetwork.predict(X_train.values[:50])\n",
    "plt.plot(np.arange(y_train.values[:50].size), y_train.values[:50], '-', label='True data', color='b')\n",
    "plt.plot(np.arange(output[:50].size), output, '--', label='Predictions', color='r')\n",
    "plt.gcf().autofmt_xdate()\n",
    "plt.show()"
   ]
  },
  {
   "cell_type": "markdown",
   "id": "8928881e-8b4c-49b4-8fac-fd8b21524b23",
   "metadata": {
    "pycharm": {
     "name": "#%% md\n"
    }
   },
   "source": [
    "# Knowledge"
   ]
  },
  {
   "cell_type": "markdown",
   "id": "455225e1-1d6e-43d3-ae13-b247afbb3157",
   "metadata": {
    "pycharm": {
     "name": "#%% md\n"
    }
   },
   "source": [
    "The conclusion"
   ]
  },
  {
   "cell_type": "code",
   "execution_count": null,
   "id": "70c6dd0a-9f62-4327-aabf-9e2c0ae5ab96",
   "metadata": {
    "pycharm": {
     "name": "#%%\n"
    }
   },
   "outputs": [],
   "source": []
  }
 ],
 "metadata": {
  "kernelspec": {
   "display_name": "dsl-project",
   "language": "python",
   "name": "dsl-project"
  },
  "language_info": {
   "codemirror_mode": {
    "name": "ipython",
    "version": 3
   },
   "file_extension": ".py",
   "mimetype": "text/x-python",
   "name": "python",
   "nbconvert_exporter": "python",
   "pygments_lexer": "ipython3",
   "version": "3.8.14"
  }
 },
 "nbformat": 4,
 "nbformat_minor": 5
}