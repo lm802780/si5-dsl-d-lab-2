{
 "cells": [
  {
   "cell_type": "markdown",
   "id": "92f6db1e-443c-45fc-bf2c-67f891cc3d25",
   "metadata": {},
   "source": [
    "# Description: example\n",
    "## framework: pytorch"
   ]
  },
  {
   "cell_type": "code",
   "execution_count": 24,
   "id": "d9cc05d0-2314-4bad-94ac-35e96c7f06a9",
   "metadata": {},
   "outputs": [],
   "source": [
    "import pandas as pd\n",
    "import matplotlib.pyplot as plt\n",
    "import numpy as np\n",
    "from sklearn.model_selection import train_test_split"
   ]
  },
  {
   "cell_type": "markdown",
   "id": "e7646177-ca15-4cde-b3f9-028f3a062928",
   "metadata": {},
   "source": [
    "# Selection"
   ]
  },
  {
   "cell_type": "code",
   "execution_count": 25,
   "id": "6eb1cf44-5785-4c2e-991c-657fb5a0fb7d",
   "metadata": {},
   "outputs": [],
   "source": [
    "# settings\n",
    "source = './mnist.csv'\n",
    "split_train, split_test, split_validation = 60, 20, 20\n",
    "label_colname = 'label'"
   ]
  },
  {
   "cell_type": "code",
   "execution_count": 26,
   "id": "fdb40ca9-85ab-45c1-9a83-2c6d67d22234",
   "metadata": {},
   "outputs": [],
   "source": [
    "data = pd.read_csv(source, encoding='utf_8', parse_dates=True)"
   ]
  },
  {
   "cell_type": "code",
   "execution_count": 27,
   "id": "ce97f40a-ba1c-450c-be23-a09c983b2140",
   "metadata": {},
   "outputs": [
    {
     "data": {
      "text/html": [
       "<div>\n",
       "<style scoped>\n",
       "    .dataframe tbody tr th:only-of-type {\n",
       "        vertical-align: middle;\n",
       "    }\n",
       "\n",
       "    .dataframe tbody tr th {\n",
       "        vertical-align: top;\n",
       "    }\n",
       "\n",
       "    .dataframe thead th {\n",
       "        text-align: right;\n",
       "    }\n",
       "</style>\n",
       "<table border=\"1\" class=\"dataframe\">\n",
       "  <thead>\n",
       "    <tr style=\"text-align: right;\">\n",
       "      <th></th>\n",
       "      <th>label</th>\n",
       "      <th>1x1</th>\n",
       "      <th>1x2</th>\n",
       "      <th>1x3</th>\n",
       "      <th>1x4</th>\n",
       "      <th>1x5</th>\n",
       "      <th>1x6</th>\n",
       "      <th>1x7</th>\n",
       "      <th>1x8</th>\n",
       "      <th>1x9</th>\n",
       "      <th>...</th>\n",
       "      <th>28x19</th>\n",
       "      <th>28x20</th>\n",
       "      <th>28x21</th>\n",
       "      <th>28x22</th>\n",
       "      <th>28x23</th>\n",
       "      <th>28x24</th>\n",
       "      <th>28x25</th>\n",
       "      <th>28x26</th>\n",
       "      <th>28x27</th>\n",
       "      <th>28x28</th>\n",
       "    </tr>\n",
       "  </thead>\n",
       "  <tbody>\n",
       "    <tr>\n",
       "      <th>0</th>\n",
       "      <td>5</td>\n",
       "      <td>0</td>\n",
       "      <td>0</td>\n",
       "      <td>0</td>\n",
       "      <td>0</td>\n",
       "      <td>0</td>\n",
       "      <td>0</td>\n",
       "      <td>0</td>\n",
       "      <td>0</td>\n",
       "      <td>0</td>\n",
       "      <td>...</td>\n",
       "      <td>0</td>\n",
       "      <td>0</td>\n",
       "      <td>0</td>\n",
       "      <td>0</td>\n",
       "      <td>0</td>\n",
       "      <td>0</td>\n",
       "      <td>0</td>\n",
       "      <td>0</td>\n",
       "      <td>0</td>\n",
       "      <td>0</td>\n",
       "    </tr>\n",
       "    <tr>\n",
       "      <th>1</th>\n",
       "      <td>0</td>\n",
       "      <td>0</td>\n",
       "      <td>0</td>\n",
       "      <td>0</td>\n",
       "      <td>0</td>\n",
       "      <td>0</td>\n",
       "      <td>0</td>\n",
       "      <td>0</td>\n",
       "      <td>0</td>\n",
       "      <td>0</td>\n",
       "      <td>...</td>\n",
       "      <td>0</td>\n",
       "      <td>0</td>\n",
       "      <td>0</td>\n",
       "      <td>0</td>\n",
       "      <td>0</td>\n",
       "      <td>0</td>\n",
       "      <td>0</td>\n",
       "      <td>0</td>\n",
       "      <td>0</td>\n",
       "      <td>0</td>\n",
       "    </tr>\n",
       "    <tr>\n",
       "      <th>2</th>\n",
       "      <td>4</td>\n",
       "      <td>0</td>\n",
       "      <td>0</td>\n",
       "      <td>0</td>\n",
       "      <td>0</td>\n",
       "      <td>0</td>\n",
       "      <td>0</td>\n",
       "      <td>0</td>\n",
       "      <td>0</td>\n",
       "      <td>0</td>\n",
       "      <td>...</td>\n",
       "      <td>0</td>\n",
       "      <td>0</td>\n",
       "      <td>0</td>\n",
       "      <td>0</td>\n",
       "      <td>0</td>\n",
       "      <td>0</td>\n",
       "      <td>0</td>\n",
       "      <td>0</td>\n",
       "      <td>0</td>\n",
       "      <td>0</td>\n",
       "    </tr>\n",
       "    <tr>\n",
       "      <th>3</th>\n",
       "      <td>1</td>\n",
       "      <td>0</td>\n",
       "      <td>0</td>\n",
       "      <td>0</td>\n",
       "      <td>0</td>\n",
       "      <td>0</td>\n",
       "      <td>0</td>\n",
       "      <td>0</td>\n",
       "      <td>0</td>\n",
       "      <td>0</td>\n",
       "      <td>...</td>\n",
       "      <td>0</td>\n",
       "      <td>0</td>\n",
       "      <td>0</td>\n",
       "      <td>0</td>\n",
       "      <td>0</td>\n",
       "      <td>0</td>\n",
       "      <td>0</td>\n",
       "      <td>0</td>\n",
       "      <td>0</td>\n",
       "      <td>0</td>\n",
       "    </tr>\n",
       "    <tr>\n",
       "      <th>4</th>\n",
       "      <td>9</td>\n",
       "      <td>0</td>\n",
       "      <td>0</td>\n",
       "      <td>0</td>\n",
       "      <td>0</td>\n",
       "      <td>0</td>\n",
       "      <td>0</td>\n",
       "      <td>0</td>\n",
       "      <td>0</td>\n",
       "      <td>0</td>\n",
       "      <td>...</td>\n",
       "      <td>0</td>\n",
       "      <td>0</td>\n",
       "      <td>0</td>\n",
       "      <td>0</td>\n",
       "      <td>0</td>\n",
       "      <td>0</td>\n",
       "      <td>0</td>\n",
       "      <td>0</td>\n",
       "      <td>0</td>\n",
       "      <td>0</td>\n",
       "    </tr>\n",
       "  </tbody>\n",
       "</table>\n",
       "<p>5 rows × 785 columns</p>\n",
       "</div>"
      ],
      "text/plain": [
       "   label  1x1  1x2  1x3  1x4  1x5  1x6  1x7  1x8  1x9  ...  28x19  28x20  \\\n",
       "0      5    0    0    0    0    0    0    0    0    0  ...      0      0   \n",
       "1      0    0    0    0    0    0    0    0    0    0  ...      0      0   \n",
       "2      4    0    0    0    0    0    0    0    0    0  ...      0      0   \n",
       "3      1    0    0    0    0    0    0    0    0    0  ...      0      0   \n",
       "4      9    0    0    0    0    0    0    0    0    0  ...      0      0   \n",
       "\n",
       "   28x21  28x22  28x23  28x24  28x25  28x26  28x27  28x28  \n",
       "0      0      0      0      0      0      0      0      0  \n",
       "1      0      0      0      0      0      0      0      0  \n",
       "2      0      0      0      0      0      0      0      0  \n",
       "3      0      0      0      0      0      0      0      0  \n",
       "4      0      0      0      0      0      0      0      0  \n",
       "\n",
       "[5 rows x 785 columns]"
      ]
     },
     "execution_count": 27,
     "metadata": {},
     "output_type": "execute_result"
    }
   ],
   "source": [
    "data.head()"
   ]
  },
  {
   "cell_type": "code",
   "execution_count": 28,
   "id": "8ef6ea28-8559-42d7-bfda-7fd0f2dbcc76",
   "metadata": {},
   "outputs": [],
   "source": [
    "X,y = data.drop([label_colname], axis = 1), data[label_colname]"
   ]
  },
  {
   "cell_type": "code",
   "execution_count": 29,
   "id": "82bde525-fd94-46d1-ae33-8e14d088e491",
   "metadata": {},
   "outputs": [],
   "source": [
    "X_train, X_test, y_train, y_test = train_test_split(X, y, train_size = split_train / 100, test_size = split_test / 100, random_state=42)\n",
    "X_train, X_valid, y_train, y_valid = train_test_split(X_train, y_train, train_size=(100 - split_validation) / 100)"
   ]
  },
  {
   "cell_type": "markdown",
   "id": "ba1e0919-e76c-4227-9705-74f77c200ac5",
   "metadata": {},
   "source": [
    "# Preprocessing"
   ]
  },
  {
   "cell_type": "code",
   "execution_count": 1,
   "id": "d3c76484-d779-4535-bc75-de31394647a2",
   "metadata": {},
   "outputs": [
    {
     "ename": "NameError",
     "evalue": "name 'X_train' is not defined",
     "output_type": "error",
     "traceback": [
      "\u001b[0;31m---------------------------------------------------------------------------\u001b[0m",
      "\u001b[0;31mNameError\u001b[0m                                 Traceback (most recent call last)",
      "Cell \u001b[0;32mIn[1], line 1\u001b[0m\n\u001b[0;32m----> 1\u001b[0m X_train \u001b[38;5;241m=\u001b[39m \u001b[43mX_train\u001b[49m \u001b[38;5;241m/\u001b[39m \u001b[38;5;241m255.\u001b[39m\n\u001b[1;32m      2\u001b[0m X_test \u001b[38;5;241m=\u001b[39m X_test \u001b[38;5;241m/\u001b[39m \u001b[38;5;241m255.\u001b[39m\n",
      "\u001b[0;31mNameError\u001b[0m: name 'X_train' is not defined"
     ]
    }
   ],
   "source": [
    "X_train = X_train / 255.\n",
    "X_test = X_test / 255."
   ]
  },
  {
   "cell_type": "markdown",
   "id": "3540eb46-a9ee-4e78-a0d3-01d57b9bf659",
   "metadata": {},
   "source": [
    "# Transformation"
   ]
  },
  {
   "cell_type": "code",
   "execution_count": 35,
   "id": "42f4959d-a704-4028-b33f-e6db80c8213c",
   "metadata": {},
   "outputs": [],
   "source": [
    "# TODO"
   ]
  },
  {
   "cell_type": "markdown",
   "id": "77e40068-b3e6-431d-beb1-626bc7d4435b",
   "metadata": {},
   "source": [
    "# Data mining"
   ]
  },
  {
   "cell_type": "code",
   "execution_count": 36,
   "id": "bae69703-d80b-4dba-845f-fdbc673694a8",
   "metadata": {},
   "outputs": [],
   "source": [
    "import keras.models as km\n",
    "from keras.layers as kl"
   ]
  },
  {
   "cell_type": "code",
   "execution_count": 37,
   "id": "10a98539-ad35-4b82-98ff-c5779b7769e7",
   "metadata": {},
   "outputs": [],
   "source": [
    "def Network(nbIn,nbOut):\n",
    "    model = km.Sequential()\n",
    "    model.add(kl.Dense(int(nbIn/2), activation='tanh', input_shape=(nbIn,)))\n",
    "    model.add(kl.Dense(nbOut, activation='softmax'))\n",
    "    return model"
   ]
  },
  {
   "cell_type": "code",
   "execution_count": 39,
   "id": "28637138-e054-4f29-86f8-b6d66c560fb2",
   "metadata": {},
   "outputs": [
    {
     "data": {
      "text/plain": [
       "Network(\n",
       "  (network): Sequential(\n",
       "    (0): Linear(in_features=784, out_features=392, bias=True)\n",
       "    (1): Tanh()\n",
       "    (2): Linear(in_features=392, out_features=1, bias=True)\n",
       "  )\n",
       ")"
      ]
     },
     "execution_count": 39,
     "metadata": {},
     "output_type": "execute_result"
    }
   ],
   "source": [
    "nbIn = input_data.shape[1]\n",
    "nbOut = 1\n",
    "nbHidden = int(nbIn/2)\n",
    "\n",
    "neuralNetwork = Network(nbIn,nbOut)\n",
    "neuralNetwork"
   ]
  },
  {
   "cell_type": "markdown",
   "id": "d4dedc14-f070-4841-a45e-1ff073d593e4",
   "metadata": {},
   "source": [
    "#### Loss/optimizers catalog"
   ]
  },
  {
   "cell_type": "code",
   "execution_count": 54,
   "id": "b5152ad9-07aa-4447-bb5f-c73c42c0ce25",
   "metadata": {},
   "outputs": [],
   "source": [
    "supported_loss_functions = {\n",
    "    'mse': nn.MSELoss,\n",
    "    'cross_entropy': nn.CrossEntropyLoss,\n",
    "}\n",
    "supported_optimizers = {\n",
    "    'adam': torch.optim.Adam,\n",
    "    'sgd': torch.optim.SGD,\n",
    "}"
   ]
  },
  {
   "cell_type": "code",
   "execution_count": 58,
   "id": "7cf67fcf-4a14-4103-a9ec-fb596c9c4baf",
   "metadata": {},
   "outputs": [],
   "source": [
    "selected_loss_function = 'mse'\n",
    "selected_optimizer = 'sgd'\n",
    "learning_rate = 0.003\n",
    "nbEpochs = 100"
   ]
  },
  {
   "cell_type": "code",
   "execution_count": 59,
   "id": "dd08e809-7ccf-4d8e-b3c8-a78a0833852f",
   "metadata": {},
   "outputs": [],
   "source": [
    "criterion = supported_loss_functions[selected_loss_function]()\n",
    "optimizer = supported_optimizers[selected_optimizer](neuralNetwork.parameters(), lr=learning_rate)"
   ]
  },
  {
   "cell_type": "code",
   "execution_count": 60,
   "id": "cc178f80-7e1e-4ae8-b1bf-75902bc8fccf",
   "metadata": {
    "scrolled": true,
    "tags": []
   },
   "outputs": [
    {
     "name": "stdout",
     "output_type": "stream",
     "text": [
      "30.501522064208984\n",
      "19.273681640625\n",
      "8.698606491088867\n",
      "6.246184349060059\n",
      "5.728732109069824\n",
      "5.342290878295898\n",
      "5.019049644470215\n",
      "4.7505106925964355\n",
      "4.527957916259766\n",
      "4.340573787689209\n",
      "4.182560920715332\n",
      "4.049341678619385\n",
      "3.934431791305542\n",
      "3.833437442779541\n",
      "3.7450685501098633\n",
      "3.667301893234253\n",
      "3.5955910682678223\n",
      "3.5298588275909424\n",
      "3.4695558547973633\n",
      "3.4131081104278564\n",
      "3.363330125808716\n",
      "3.3217127323150635\n",
      "3.2884392738342285\n",
      "3.2632408142089844\n",
      "3.2464652061462402\n",
      "3.224344253540039\n",
      "3.209027051925659\n",
      "3.1857552528381348\n",
      "3.166302442550659\n",
      "3.151869058609009\n",
      "3.138343572616577\n",
      "3.125075340270996\n",
      "3.1104934215545654\n",
      "3.1018149852752686\n",
      "3.0866920948028564\n",
      "3.084139347076416\n",
      "3.0679914951324463\n",
      "3.0714735984802246\n",
      "3.06174373626709\n",
      "3.0615463256835938\n",
      "3.0471200942993164\n",
      "3.0450031757354736\n",
      "3.028083562850952\n",
      "3.0249855518341064\n",
      "3.0009076595306396\n",
      "2.985039472579956\n",
      "2.9435670375823975\n",
      "2.9124884605407715\n",
      "2.8481268882751465\n",
      "2.7854020595550537\n",
      "2.704533100128174\n",
      "2.6409835815429688\n",
      "2.5752859115600586\n",
      "2.5273079872131348\n",
      "2.48465895652771\n",
      "2.4607696533203125\n",
      "2.438390016555786\n",
      "2.4345204830169678\n",
      "2.430197238922119\n",
      "2.451538324356079\n",
      "2.4945642948150635\n",
      "2.5743792057037354\n",
      "2.691863536834717\n",
      "2.8385026454925537\n",
      "3.068871021270752\n",
      "3.2876901626586914\n",
      "3.499711275100708\n",
      "3.603384017944336\n",
      "3.60792875289917\n",
      "3.4344229698181152\n",
      "3.226745367050171\n",
      "2.9393362998962402\n",
      "2.6982970237731934\n",
      "2.5226428508758545\n",
      "2.3858914375305176\n",
      "2.294219732284546\n",
      "2.226303815841675\n",
      "2.1821796894073486\n",
      "2.1448185443878174\n",
      "2.124967336654663\n",
      "2.1143252849578857\n",
      "2.110809087753296\n",
      "2.116438388824463\n",
      "2.1383213996887207\n",
      "2.170410394668579\n",
      "2.2279930114746094\n",
      "2.2869997024536133\n",
      "2.366309642791748\n",
      "2.444143533706665\n",
      "2.514866828918457\n",
      "2.575161933898926\n",
      "2.640904426574707\n",
      "2.6786351203918457\n",
      "2.6829638481140137\n",
      "2.661519765853882\n",
      "2.6212141513824463\n",
      "2.5311458110809326\n",
      "2.4165782928466797\n",
      "2.2733449935913086\n",
      "2.1599628925323486\n"
     ]
    }
   ],
   "source": [
    "items = []\n",
    "# launching iterations\n",
    "for epoch in range(nbEpochs):\n",
    "    optimizer.zero_grad()\n",
    "    output = neuralNetwork(input_data)\n",
    "    loss = criterion(output, target) # calcul de la fonction cout (moindres carrés)\n",
    "    loss.backward() # calcul du gradient (sens = droite vers gauche)\n",
    "    optimizer.step() # modification des parametres du réseau de neurones\n",
    "    print(loss.item())\n",
    "    items.append(loss.item())"
   ]
  },
  {
   "cell_type": "markdown",
   "id": "e5135d69-db4b-46ad-8bb9-65d8b4006f1d",
   "metadata": {},
   "source": [
    "# Validation"
   ]
  },
  {
   "cell_type": "code",
   "execution_count": 62,
   "id": "6020fe16-02fb-4c74-b461-345e4783db15",
   "metadata": {},
   "outputs": [
    {
     "data": {
      "image/png": "[encoded data removed]",
      "text/plain": [
       "<Figure size 640x480 with 1 Axes>"
      ]
     },
     "metadata": {},
     "output_type": "display_data"
    }
   ],
   "source": [
    "fig, ax = plt.subplots()\n",
    "x = np.arange(len(items))\n",
    "ax.plot(x, items)\n",
    "ax.set(xlabel='number of epochs', ylabel='loss', title='Evolution')\n",
    "plt.show()"
   ]
  },
  {
   "cell_type": "code",
   "execution_count": 77,
   "id": "e80e75af-b078-4dd2-b449-917e95cad461",
   "metadata": {},
   "outputs": [
    {
     "data": {
      "image/png": "[encoded data removed]",
      "text/plain": [
       "<Figure size 640x480 with 1 Axes>"
      ]
     },
     "metadata": {},
     "output_type": "display_data"
    }
   ],
   "source": [
    "ax = plt.gca()\n",
    "plt.plot(np.arange(y_train.values[:50].size), y_train.values[:50], '-', label='True data', color='b')\n",
    "plt.plot(np.arange(output.detach().numpy()[:50].size), output.detach().numpy()[:50], '--', label='Predictions', color='r')\n",
    "plt.gcf().autofmt_xdate()\n",
    "plt.show()"
   ]
  },
  {
   "cell_type": "markdown",
   "id": "8928881e-8b4c-49b4-8fac-fd8b21524b23",
   "metadata": {},
   "source": [
    "# Knowledge"
   ]
  },
  {
   "cell_type": "markdown",
   "id": "455225e1-1d6e-43d3-ae13-b247afbb3157",
   "metadata": {},
   "source": [
    "The conclusion"
   ]
  },
  {
   "cell_type": "code",
   "execution_count": null,
   "id": "70c6dd0a-9f62-4327-aabf-9e2c0ae5ab96",
   "metadata": {},
   "outputs": [],
   "source": []
  }
 ],
 "metadata": {
  "kernelspec": {
   "display_name": "dsl-project",
   "language": "python",
   "name": "dsl-project"
  },
  "language_info": {
   "codemirror_mode": {
    "name": "ipython",
    "version": 3
   },
   "file_extension": ".py",
   "mimetype": "text/x-python",
   "name": "python",
   "nbconvert_exporter": "python",
   "pygments_lexer": "ipython3",
   "version": "3.8.14"
  }
 },
 "nbformat": 4,
 "nbformat_minor": 5
}
